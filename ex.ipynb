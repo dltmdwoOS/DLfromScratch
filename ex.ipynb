{
 "cells": [
  {
   "cell_type": "code",
   "execution_count": 1,
   "metadata": {},
   "outputs": [],
   "source": [
    "%load_ext autoreload\n",
    "%autoreload 2\n",
    "from network import *"
   ]
  },
  {
   "cell_type": "code",
   "execution_count": 2,
   "metadata": {},
   "outputs": [
    {
     "name": "stdout",
     "output_type": "stream",
     "text": [
      "Training set size: 1437\n",
      "Test set size: 360\n"
     ]
    },
    {
     "name": "stderr",
     "output_type": "stream",
     "text": [
      "c:\\Users\\coex0\\anaconda3\\Lib\\site-packages\\sklearn\\preprocessing\\_encoders.py:972: FutureWarning: `sparse` was renamed to `sparse_output` in version 1.2 and will be removed in 1.4. `sparse_output` is ignored unless you leave `sparse` to its default value.\n",
      "  warnings.warn(\n"
     ]
    }
   ],
   "source": [
    "# 필요한 라이브러리 불러오기\n",
    "from sklearn.datasets import load_iris\n",
    "from sklearn.datasets import load_digits\n",
    "from sklearn.model_selection import train_test_split\n",
    "from sklearn.preprocessing import OneHotEncoder\n",
    "\n",
    "def one_hot_encode(y):\n",
    "    encoder = OneHotEncoder(sparse=False)\n",
    "    y_reshaped = y.reshape(-1, 1)\n",
    "    return encoder.fit_transform(y_reshaped)\n",
    "\n",
    "# Iris 데이터셋 불러오기\n",
    "iris = load_digits()\n",
    "X = iris.data\n",
    "y = iris.target\n",
    "y = one_hot_encode(y)\n",
    "# 데이터셋을 train과 test로 분할 (80% train, 20% test)\n",
    "X_train, X_test, y_train, y_test = train_test_split(X, y, test_size=0.2, random_state=42)\n",
    "\n",
    "# 결과 출력\n",
    "print(f'Training set size: {X_train.shape[0]}')\n",
    "print(f'Test set size: {X_test.shape[0]}')\n"
   ]
  },
  {
   "cell_type": "markdown",
   "metadata": {},
   "source": [
    "## 5.7.3 오차역전파법으로 구한 기울기 검증하기"
   ]
  },
  {
   "cell_type": "code",
   "execution_count": null,
   "metadata": {},
   "outputs": [],
   "source": [
    "network = TwoLayerNetwork(X_train[0].size, 50, y_train[0].size)"
   ]
  },
  {
   "cell_type": "code",
   "execution_count": null,
   "metadata": {},
   "outputs": [],
   "source": [
    "X_batch = X_train[:3]\n",
    "y_batch = y_train[:3]\n",
    "\n",
    "grad_numerical = network.numerical_gradient(X_batch, y_batch)\n",
    "grad_backprop = network.gradient(X_batch, y_batch)"
   ]
  },
  {
   "cell_type": "code",
   "execution_count": null,
   "metadata": {},
   "outputs": [],
   "source": [
    "network.params"
   ]
  },
  {
   "cell_type": "code",
   "execution_count": null,
   "metadata": {},
   "outputs": [],
   "source": [
    "for key in grad_numerical.keys():\n",
    "    diff = np.average(np.abs(grad_backprop[key] - grad_numerical[key]))\n",
    "    print(key + \":\" + str(diff))"
   ]
  },
  {
   "cell_type": "markdown",
   "metadata": {},
   "source": [
    "## 5.7.4 오차역전파법을 사용한 학습 구현하기"
   ]
  },
  {
   "cell_type": "markdown",
   "metadata": {},
   "source": [
    "### Using gradient descent"
   ]
  },
  {
   "cell_type": "code",
   "execution_count": null,
   "metadata": {},
   "outputs": [],
   "source": [
    "network = TwoLayerNetwork(X_train[0].size, 200, y_train[0].size)\n",
    "\n",
    "num_iter = 200\n",
    "train_size = X_train.shape[0]\n",
    "batch_size = 100\n",
    "learning_rate = 0.03\n",
    "train_loss_log = []\n",
    "train_acc_log = []\n",
    "test_acc_log = []\n",
    "\n",
    "iter_per_epoch = max(train_size / batch_size, 1)\n",
    "\n",
    "for i in range(num_iter):\n",
    "    batch_mask = np.random.choice(train_size, batch_size)\n",
    "    X_batch = X_train[batch_mask]\n",
    "    y_batch = y_train[batch_mask]\n",
    "    \n",
    "    grad = network.gradient(X_batch, y_batch)\n",
    "    for key in list(network.params.keys()): # gradient descent\n",
    "        network.params[key] -= learning_rate * grad[key]\n",
    "    \n",
    "    loss = network.loss(X_batch, y_batch)\n",
    "    train_loss_log.append(loss)\n",
    "    \n",
    "    if i % 10 == 0:\n",
    "        train_acc = network.accuracy(X_train, y_train)\n",
    "        test_acc = network.accuracy(X_test, y_test)\n",
    "        train_acc_log.append(train_acc)\n",
    "        test_acc_log.append(test_acc)\n",
    "        print(train_acc, test_acc)\n",
    "        \n",
    "import matplotlib.pyplot as plt\n",
    "plt.plot(np.arange(len(train_acc_log)), np.array(train_acc_log))\n",
    "plt.show()"
   ]
  },
  {
   "cell_type": "code",
   "execution_count": 31,
   "metadata": {},
   "outputs": [
    {
     "name": "stdout",
     "output_type": "stream",
     "text": [
      "5\n"
     ]
    },
    {
     "data": {
      "image/png": "[encoded data removed]",
      "text/plain": [
       "<Figure size 640x480 with 2 Axes>"
      ]
     },
     "metadata": {},
     "output_type": "display_data"
    }
   ],
   "source": [
    "test = X_test[94]\n",
    "print(network.infer(test))\n",
    "plt.imshow(test.reshape(8, 8), cmap='gray')  # cmap을 'gray'로 설정하여 흑백 이미지로 표시\n",
    "plt.colorbar()  # 색상 막대를 추가합니다\n",
    "plt.title(\"8x8 Random Image\")\n",
    "plt.show()"
   ]
  },
  {
   "cell_type": "code",
   "execution_count": null,
   "metadata": {},
   "outputs": [],
   "source": [
    "info = {\n",
    "    \"Affain1\":(X_train[0].size, 200),\n",
    "    \"ReLU1\":(200, 200),\n",
    "    \"Affain2\":(200, y_train[0].size),\n",
    "    \"SoftmaxWithLoss\":(y_train[0].size, y_train[0].size)\n",
    "}\n",
    "network = MultiLayerNetwork(info=info)\n",
    "network.fit(X_train, y_train, batch_size=100, epoch=200, learning_rate=0.03)"
   ]
  },
  {
   "cell_type": "markdown",
   "metadata": {},
   "source": [
    "### Using moment"
   ]
  },
  {
   "cell_type": "code",
   "execution_count": null,
   "metadata": {},
   "outputs": [],
   "source": [
    "import copy\n",
    "network = TwoLayerNetwork(X_train[0].size, 50, y_train[0].size)\n",
    "\n",
    "num_iter = 1000\n",
    "train_size = X_train.shape[0]\n",
    "batch_size = 100\n",
    "learning_rate = 0.03\n",
    "alpha = 0.5\n",
    "moment = copy.deepcopy(network.params)\n",
    "for key in list(moment.keys()):\n",
    "    moment[key] *= 0\n",
    "\n",
    "train_loss_log = []\n",
    "train_acc_log = []\n",
    "test_acc_log = []\n",
    "grad = None\n",
    "for i in range(num_iter):\n",
    "    batch_mask = np.random.choice(train_size, batch_size)\n",
    "    X_batch = X_train[batch_mask]\n",
    "    y_batch = y_train[batch_mask]\n",
    "    \n",
    "    grad = network.gradient(X_batch, y_batch)\n",
    "    for key in list(network.params.keys()): # gradient descent\n",
    "         moment[key] = alpha*moment[key] - learning_rate*grad[key]\n",
    "         network.params[key] += moment[key]\n",
    "    \n",
    "    loss = network.loss(X_batch, y_batch)\n",
    "    train_loss_log.append(loss)\n",
    "    \n",
    "    if i % 10 == 0:\n",
    "        train_acc = network.accuracy(X_train, y_train)\n",
    "        test_acc = network.accuracy(X_test, y_test)\n",
    "        train_acc_log.append(train_acc)\n",
    "        test_acc_log.append(test_acc)\n",
    "        print(train_acc, test_acc)\n",
    "        \n",
    "plt.plot(np.arange(len(train_acc_log)), np.array(train_acc_log))\n",
    "plt.show()"
   ]
  },
  {
   "cell_type": "code",
   "execution_count": 33,
   "metadata": {},
   "outputs": [
    {
     "data": {
      "text/plain": [
       "'final loss : 0.017527877228527958 / final train accuracy : 0.9944328462073765'"
      ]
     },
     "execution_count": 33,
     "metadata": {},
     "output_type": "execute_result"
    }
   ],
   "source": [
    "info = {\n",
    "    \"Affain1\":(X_train[0].size, 200),\n",
    "    \"ReLU1\":(200, 200),\n",
    "    \"Affain2\":(200, y_train[0].size),\n",
    "    \"SoftmaxWithLoss\":(y_train[0].size, y_train[0].size)\n",
    "}\n",
    "network = MultiLayerNetwork(info=info, optimizer=\"momentum\")\n",
    "network.fit(X_train, y_train, batch_size=100, epoch=200, learning_rate=0.03, moment_const=0.5)"
   ]
  },
  {
   "cell_type": "markdown",
   "metadata": {},
   "source": [
    "### Using learning rate decay"
   ]
  },
  {
   "cell_type": "code",
   "execution_count": null,
   "metadata": {},
   "outputs": [],
   "source": [
    "network = TwoLayerNetwork(X_train[0].size, 50, y_train[0].size)\n",
    "num_iter = 1000\n",
    "train_size = X_train.shape[0]\n",
    "batch_size = 100\n",
    "initial_learning_rate = 0.05\n",
    "learning_rate = initial_learning_rate\n",
    "learning_rate_decay = 0.99  # learning rate decay factor\n",
    "train_loss_log = []\n",
    "train_acc_log = []\n",
    "test_acc_log = []\n",
    "\n",
    "iter_per_epoch = max(train_size / batch_size, 1)\n",
    "\n",
    "for i in range(num_iter):\n",
    "    batch_mask = np.random.choice(train_size, batch_size)\n",
    "    X_batch = X_train[batch_mask]\n",
    "    y_batch = y_train[batch_mask]\n",
    "    \n",
    "    grad = network.gradient(X_batch, y_batch)\n",
    "    for key in list(network.params.keys()): # gradient descent\n",
    "        network.params[key] -= learning_rate * grad[key]\n",
    "    \n",
    "    loss = network.loss(X_batch, y_batch)\n",
    "    train_loss_log.append(loss)\n",
    "    \n",
    "    if i % iter_per_epoch == 0:\n",
    "        learning_rate *= learning_rate_decay  # decay the learning rate\n",
    "    \n",
    "    if i % 10 == 0:\n",
    "        train_acc = network.accuracy(X_train, y_train)\n",
    "        test_acc = network.accuracy(X_test, y_test)\n",
    "        train_acc_log.append(train_acc)\n",
    "        test_acc_log.append(test_acc)\n",
    "        print(train_acc, test_acc)\n",
    "        \n",
    "plt.plot(np.arange(len(train_acc_log)), np.array(train_acc_log))\n",
    "plt.show()\n"
   ]
  },
  {
   "cell_type": "code",
   "execution_count": null,
   "metadata": {},
   "outputs": [],
   "source": []
  }
 ],
 "metadata": {
  "kernelspec": {
   "display_name": "base",
   "language": "python",
   "name": "python3"
  },
  "language_info": {
   "codemirror_mode": {
    "name": "ipython",
    "version": 3
   },
   "file_extension": ".py",
   "mimetype": "text/x-python",
   "name": "python",
   "nbconvert_exporter": "python",
   "pygments_lexer": "ipython3",
   "version": "3.11.5"
  }
 },
 "nbformat": 4,
 "nbformat_minor": 2
}
