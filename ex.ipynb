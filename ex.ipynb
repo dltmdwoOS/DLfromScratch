{
 "cells": [
  {
   "cell_type": "code",
   "execution_count": 1,
   "metadata": {},
   "outputs": [],
   "source": [
    "%load_ext autoreload\n",
    "%autoreload 2\n",
    "from network import *"
   ]
  },
  {
   "cell_type": "code",
   "execution_count": 2,
   "metadata": {},
   "outputs": [
    {
     "name": "stdout",
     "output_type": "stream",
     "text": [
      "Training set size: 1437\n",
      "Test set size: 360\n"
     ]
    },
    {
     "name": "stderr",
     "output_type": "stream",
     "text": [
      "c:\\Users\\coex0\\anaconda3\\Lib\\site-packages\\sklearn\\preprocessing\\_encoders.py:972: FutureWarning: `sparse` was renamed to `sparse_output` in version 1.2 and will be removed in 1.4. `sparse_output` is ignored unless you leave `sparse` to its default value.\n",
      "  warnings.warn(\n"
     ]
    }
   ],
   "source": [
    "# 필요한 라이브러리 불러오기\n",
    "from sklearn.datasets import load_iris\n",
    "from sklearn.datasets import load_digits\n",
    "from sklearn.model_selection import train_test_split\n",
    "from sklearn.preprocessing import OneHotEncoder\n",
    "\n",
    "def one_hot_encode(y):\n",
    "    encoder = OneHotEncoder(sparse=False)\n",
    "    y_reshaped = y.reshape(-1, 1)\n",
    "    return encoder.fit_transform(y_reshaped)\n",
    "\n",
    "# Iris 데이터셋 불러오기\n",
    "iris = load_digits()\n",
    "X = iris.data\n",
    "y = iris.target\n",
    "y = one_hot_encode(y)\n",
    "# 데이터셋을 train과 test로 분할 (80% train, 20% test)\n",
    "X_train, X_test, y_train, y_test = train_test_split(X, y, test_size=0.2, random_state=42)\n",
    "\n",
    "# 결과 출력\n",
    "print(f'Training set size: {X_train.shape[0]}')\n",
    "print(f'Test set size: {X_test.shape[0]}')\n"
   ]
  },
  {
   "cell_type": "markdown",
   "metadata": {},
   "source": [
    "## 5.7.3 오차역전파법으로 구한 기울기 검증하기"
   ]
  },
  {
   "cell_type": "code",
   "execution_count": null,
   "metadata": {},
   "outputs": [],
   "source": [
    "network = TwoLayerNetwork(X_train[0].size, 50, y_train[0].size)"
   ]
  },
  {
   "cell_type": "code",
   "execution_count": null,
   "metadata": {},
   "outputs": [],
   "source": [
    "X_batch = X_train[:3]\n",
    "y_batch = y_train[:3]\n",
    "\n",
    "grad_numerical = network.numerical_gradient(X_batch, y_batch)\n",
    "grad_backprop = network.gradient(X_batch, y_batch)"
   ]
  },
  {
   "cell_type": "code",
   "execution_count": null,
   "metadata": {},
   "outputs": [],
   "source": [
    "network.params"
   ]
  },
  {
   "cell_type": "code",
   "execution_count": null,
   "metadata": {},
   "outputs": [],
   "source": [
    "for key in grad_numerical.keys():\n",
    "    diff = np.average(np.abs(grad_backprop[key] - grad_numerical[key]))\n",
    "    print(key + \":\" + str(diff))"
   ]
  },
  {
   "cell_type": "markdown",
   "metadata": {},
   "source": [
    "## 5.7.4 오차역전파법을 사용한 학습 구현하기"
   ]
  },
  {
   "cell_type": "markdown",
   "metadata": {},
   "source": [
    "### Using gradient descent"
   ]
  },
  {
   "cell_type": "code",
   "execution_count": 6,
   "metadata": {},
   "outputs": [
    {
     "name": "stdout",
     "output_type": "stream",
     "text": [
      "0.1336116910229645 0.1388888888888889\n",
      "0.789839944328462 0.7861111111111111\n",
      "0.8747390396659708 0.85\n",
      "0.9109255393180237 0.8944444444444445\n",
      "0.9380654140570633 0.9027777777777778\n",
      "0.941544885177453 0.9111111111111111\n",
      "0.9582463465553236 0.9083333333333333\n",
      "0.9561586638830898 0.9222222222222223\n",
      "0.9679888656924147 0.9305555555555556\n",
      "0.9735560194850382 0.9305555555555556\n",
      "0.9791231732776617 0.9277777777777778\n",
      "0.9826026443980515 0.9277777777777778\n",
      "0.9846903270702854 0.9333333333333333\n",
      "0.988169798190675 0.9333333333333333\n",
      "0.988169798190675 0.9388888888888889\n",
      "0.9853862212943633 0.9416666666666667\n",
      "0.9902574808629089 0.9416666666666667\n",
      "0.9909533750869868 0.9555555555555556\n",
      "0.9916492693110647 0.95\n",
      "0.9902574808629089 0.9472222222222222\n"
     ]
    },
    {
     "data": {
      "image/png": "[encoded data removed]",
      "text/plain": [
       "<Figure size 640x480 with 1 Axes>"
      ]
     },
     "metadata": {},
     "output_type": "display_data"
    }
   ],
   "source": [
    "network = TwoLayerNetwork(X_train[0].size, 200, y_train[0].size)\n",
    "\n",
    "num_iter = 200\n",
    "train_size = X_train.shape[0]\n",
    "batch_size = 100\n",
    "learning_rate = 0.03\n",
    "train_loss_log = []\n",
    "train_acc_log = []\n",
    "test_acc_log = []\n",
    "\n",
    "iter_per_epoch = max(train_size / batch_size, 1)\n",
    "\n",
    "for i in range(num_iter):\n",
    "    batch_mask = np.random.choice(train_size, batch_size)\n",
    "    X_batch = X_train[batch_mask]\n",
    "    y_batch = y_train[batch_mask]\n",
    "    \n",
    "    grad = network.gradient(X_batch, y_batch)\n",
    "    for key in list(network.params.keys()): # gradient descent\n",
    "        network.params[key] -= learning_rate * grad[key]\n",
    "    \n",
    "    loss = network.loss(X_batch, y_batch)\n",
    "    train_loss_log.append(loss)\n",
    "    \n",
    "    if i % 10 == 0:\n",
    "        train_acc = network.accuracy(X_train, y_train)\n",
    "        test_acc = network.accuracy(X_test, y_test)\n",
    "        train_acc_log.append(train_acc)\n",
    "        test_acc_log.append(test_acc)\n",
    "        print(train_acc, test_acc)\n",
    "        \n",
    "import matplotlib.pyplot as plt\n",
    "plt.plot(np.arange(len(train_acc_log)), np.array(train_acc_log))\n",
    "plt.show()"
   ]
  },
  {
   "cell_type": "code",
   "execution_count": 7,
   "metadata": {},
   "outputs": [
    {
     "data": {
      "text/plain": [
       "{'W1': array([[ 0.4379728 , -0.20857893,  0.29179183, ...,  0.11255738,\n",
       "         -0.14578025,  0.20450502],\n",
       "        [-0.29526624,  0.13823545,  0.05339213, ...,  0.37823966,\n",
       "          0.08756201,  0.23715737],\n",
       "        [-0.1909677 , -0.21978025, -0.40860727, ...,  0.2772081 ,\n",
       "         -0.05466561, -0.33030441],\n",
       "        ...,\n",
       "        [ 0.04822655, -0.29067315, -0.0234419 , ...,  0.19432196,\n",
       "         -0.12016954,  0.05810673],\n",
       "        [ 0.2227736 ,  0.18698956, -0.2647049 , ..., -0.28806733,\n",
       "          0.09760798, -0.05881634],\n",
       "        [-0.36087428,  0.28010003, -0.05643055, ..., -0.58133924,\n",
       "         -0.06880666,  0.24086007]]),\n",
       " 'b1': array([-1.31790072e-02, -5.28421958e-04, -4.15040782e-03, -1.78065074e-02,\n",
       "        -6.30363322e-03, -4.65551271e-04, -6.30726684e-04, -9.72367922e-03,\n",
       "        -4.37360611e-03, -8.03195213e-03, -9.20595156e-04, -1.62051095e-03,\n",
       "         1.23048995e-04,  1.83017426e-03, -3.41404966e-03, -2.22177166e-03,\n",
       "        -4.43757714e-03, -4.32285311e-03, -2.20788728e-04,  3.55201013e-03,\n",
       "        -4.43758543e-03, -1.83073300e-03,  1.05024345e-03,  1.15751308e-04,\n",
       "        -8.56135301e-03,  4.40321168e-03, -7.86960579e-04, -1.04097628e-02,\n",
       "        -4.71349198e-03, -8.25713606e-03, -1.05392723e-02,  6.25478739e-04,\n",
       "        -7.65110406e-03,  2.47506924e-04, -2.88429718e-03, -4.22488025e-03,\n",
       "        -4.62199942e-03, -5.84310983e-03, -1.78160968e-03, -1.85238210e-03,\n",
       "        -7.93502711e-04,  4.93864581e-04, -4.24794549e-03, -5.75602222e-04,\n",
       "        -1.05640969e-04, -7.41510534e-04, -8.33680902e-03,  1.43667325e-04,\n",
       "        -4.07392236e-04, -2.47678890e-03, -2.75185513e-04, -1.56605979e-03,\n",
       "        -2.55092339e-03, -1.12105380e-03,  7.72101321e-04, -4.61766281e-03,\n",
       "         1.58741703e-03,  4.75319427e-04, -8.89796404e-03, -5.37543785e-03,\n",
       "         5.04244840e-04,  4.09302364e-04, -4.20648884e-03, -1.32364303e-02,\n",
       "        -1.95496324e-03, -6.85126526e-03, -1.25664624e-03, -8.81652874e-04,\n",
       "        -2.02843237e-05, -5.04872104e-03, -1.49900908e-02, -9.87565577e-04,\n",
       "        -3.03167073e-03,  1.81472300e-03, -3.05420806e-03, -1.03319088e-02,\n",
       "        -4.75415003e-03, -7.10761813e-03, -4.64955272e-03, -4.94552982e-03,\n",
       "        -9.96256177e-03,  1.22949115e-03, -9.25302404e-04, -1.19057453e-02,\n",
       "        -9.55431107e-03, -6.25452179e-03, -6.87758407e-03,  4.54587630e-06,\n",
       "         8.57668205e-05, -3.67339750e-03, -2.55470928e-03, -5.16888671e-03,\n",
       "         5.79406737e-04,  0.00000000e+00, -1.93630523e-03, -7.92132358e-03,\n",
       "        -1.59744671e-03, -6.41993768e-03,  2.19458934e-03, -5.49251623e-04,\n",
       "        -6.25504946e-03, -8.11145392e-04, -1.30753838e-02, -1.28355449e-02,\n",
       "        -1.03573830e-04, -9.02591462e-03, -9.09737447e-04, -7.34548283e-03,\n",
       "        -4.59620103e-04, -7.12021784e-03, -4.09483980e-03, -6.18222812e-04,\n",
       "        -9.55088923e-03, -1.88537369e-03, -1.39365927e-02,  3.96471005e-03,\n",
       "         1.16446914e-04, -1.18144646e-02,  7.92913736e-05, -9.88486457e-03,\n",
       "        -1.16106028e-03, -1.28512277e-02, -6.08897625e-03, -1.22175470e-02,\n",
       "        -4.84286613e-03,  0.00000000e+00, -2.13830140e-04,  8.52533411e-04,\n",
       "        -3.65061472e-03, -6.75654698e-03, -1.29927008e-02, -1.66003747e-03,\n",
       "         1.10471598e-03, -1.09453751e-02, -2.33244612e-03, -3.32111985e-03,\n",
       "        -7.05994522e-03, -2.38003636e-03, -3.07362246e-03, -6.78074207e-03,\n",
       "        -5.24025814e-03, -7.72094088e-04, -2.71248771e-03, -8.23573734e-03,\n",
       "        -3.44158630e-03, -3.64119423e-03, -1.35213358e-03, -3.27199583e-04,\n",
       "        -5.29348741e-03,  2.66118654e-03, -1.79822766e-02, -2.03596793e-02,\n",
       "        -1.57314118e-02,  7.87912557e-04, -1.72379140e-03, -6.93046756e-03,\n",
       "        -3.71445595e-03, -7.49434185e-04, -1.76074935e-02, -4.81870112e-04,\n",
       "         3.67112767e-03, -1.51166066e-02,  4.57074861e-03, -8.37985864e-03,\n",
       "        -1.77195687e-02, -6.89010119e-04, -7.75868668e-05, -4.60227225e-03,\n",
       "        -5.67238382e-04, -1.13631192e-02, -7.79994111e-05, -9.26495542e-03,\n",
       "         3.79702022e-04, -1.03654102e-02, -8.89023050e-04, -1.74836709e-03,\n",
       "        -2.28467131e-04, -2.77058609e-04, -1.79674037e-04,  0.00000000e+00,\n",
       "        -2.43070961e-02,  1.55651235e-03, -1.39795555e-02, -8.87683144e-03,\n",
       "         0.00000000e+00, -8.69040185e-03, -1.43091853e-02, -4.22437544e-03,\n",
       "         2.40949661e-05,  2.04227444e-04, -2.01853173e-03,  1.95624243e-04,\n",
       "        -7.11119472e-03, -4.00305586e-03, -2.64593132e-03, -4.72945479e-04,\n",
       "        -1.31210635e-03,  8.98689488e-05,  1.81184913e-04, -9.02790020e-03]),\n",
       " 'W2': array([[-0.13160678,  0.23066249,  0.35972571, ...,  0.09994133,\n",
       "         -0.502054  , -0.58919121],\n",
       "        [-0.26364956, -0.22884004,  0.07232739, ..., -0.20822428,\n",
       "          0.15800756,  0.22669081],\n",
       "        [-0.04668628, -0.08656751, -0.28739335, ...,  0.02070399,\n",
       "         -0.08086488, -0.13548649],\n",
       "        ...,\n",
       "        [ 0.05041703,  0.0264774 , -0.19257959, ...,  0.19271822,\n",
       "         -0.21989569, -0.26570333],\n",
       "        [ 0.113668  , -0.07671331,  0.08026386, ..., -0.37808645,\n",
       "          0.04793791, -0.04801329],\n",
       "        [-0.1156454 ,  0.07647286,  0.21079541, ...,  0.14107854,\n",
       "         -0.33492789, -0.36537572]]),\n",
       " 'b2': array([-0.00164072, -0.00507985, -0.005644  ,  0.00120679, -0.00648272,\n",
       "        -0.00450474, -0.00343397, -0.01084928,  0.02649547,  0.00993303])}"
      ]
     },
     "execution_count": 7,
     "metadata": {},
     "output_type": "execute_result"
    }
   ],
   "source": [
    "network.params"
   ]
  },
  {
   "cell_type": "code",
   "execution_count": 33,
   "metadata": {},
   "outputs": [
    {
     "name": "stdout",
     "output_type": "stream",
     "text": [
      "2\n"
     ]
    },
    {
     "data": {
      "image/png": "[encoded data removed]",
      "text/plain": [
       "<Figure size 640x480 with 2 Axes>"
      ]
     },
     "metadata": {},
     "output_type": "display_data"
    }
   ],
   "source": [
    "test = X_test[4]\n",
    "print(network.infer(test))\n",
    "plt.imshow(test.reshape(8, 8), cmap='gray')  # cmap을 'gray'로 설정하여 흑백 이미지로 표시\n",
    "plt.colorbar()  # 색상 막대를 추가합니다\n",
    "plt.title(\"8x8 Random Image\")\n",
    "plt.show()"
   ]
  },
  {
   "cell_type": "code",
   "execution_count": 25,
   "metadata": {},
   "outputs": [
    {
     "name": "stdout",
     "output_type": "stream",
     "text": [
      "0\n",
      "10\n",
      "20\n",
      "30\n",
      "40\n",
      "50\n",
      "60\n",
      "70\n",
      "80\n",
      "90\n",
      "100\n",
      "110\n",
      "120\n",
      "130\n",
      "140\n",
      "150\n",
      "160\n",
      "170\n",
      "180\n",
      "190\n"
     ]
    },
    {
     "data": {
      "text/plain": [
       "'final loss : 0.008201283913284401 / final train accuracy : 0.9979123173277662'"
      ]
     },
     "execution_count": 25,
     "metadata": {},
     "output_type": "execute_result"
    }
   ],
   "source": [
    "info = {\n",
    "    \"Affain1\":(X_train[0].size, 200),\n",
    "    \"ReLU1\":(200, 200),\n",
    "    \"Affain2\":(200, y_train[0].size),\n",
    "    \"SoftmaxWithLoss\":(y_train[0].size, y_train[0].size)\n",
    "}\n",
    "network = MultiLayerNetwork(info=info)\n",
    "network.fit(X_train, y_train, batch_size=100, epoch=200, learning_rate=0.03)"
   ]
  },
  {
   "cell_type": "markdown",
   "metadata": {},
   "source": [
    "### Using moment"
   ]
  },
  {
   "cell_type": "code",
   "execution_count": 8,
   "metadata": {},
   "outputs": [
    {
     "name": "stdout",
     "output_type": "stream",
     "text": [
      "0.09881697981906751 0.07222222222222222\n",
      "0.44606819763395966 0.4583333333333333\n",
      "0.5963813500347948 0.6444444444444445\n",
      "0.6520528879610299 0.6916666666666667\n",
      "0.7223382045929019 0.7444444444444445\n",
      "0.7842727905358385 0.8055555555555556\n",
      "0.8155880306193458 0.8333333333333334\n",
      "0.8357689631176062 0.85\n",
      "0.848990953375087 0.8583333333333333\n",
      "0.8587334725121781 0.8527777777777777\n",
      "0.8907446068197634 0.8694444444444445\n",
      "0.9046624913013221 0.8861111111111111\n",
      "0.8997912317327766 0.8944444444444445\n",
      "0.8810020876826722 0.8805555555555555\n",
      "0.9102296450939458 0.9166666666666666\n",
      "0.919276270006959 0.9027777777777778\n",
      "0.9199721642310369 0.9138888888888889\n",
      "0.9290187891440501 0.9138888888888889\n",
      "0.9380654140570633 0.9305555555555556\n",
      "0.929714683368128 0.925\n",
      "0.9450243562978428 0.9305555555555556\n",
      "0.954070981210856 0.9305555555555556\n",
      "0.9512874043145442 0.9222222222222223\n",
      "0.954070981210856 0.9444444444444444\n",
      "0.9638135003479471 0.9361111111111111\n",
      "0.9610299234516354 0.9416666666666667\n",
      "0.9610299234516354 0.9388888888888889\n",
      "0.9582463465553236 0.9277777777777778\n",
      "0.9589422407794015 0.9416666666666667\n",
      "0.9700765483646486 0.9472222222222222\n",
      "0.9700765483646486 0.9472222222222222\n",
      "0.9721642310368824 0.9361111111111111\n",
      "0.9624217118997912 0.9472222222222222\n",
      "0.9742519137091162 0.95\n",
      "0.9679888656924147 0.95\n",
      "0.9784272790535838 0.9555555555555556\n",
      "0.9798190675017397 0.9527777777777777\n",
      "0.9832985386221295 0.9555555555555556\n",
      "0.9784272790535838 0.9472222222222222\n",
      "0.9770354906054279 0.9527777777777777\n",
      "0.9819067501739736 0.9472222222222222\n",
      "0.9784272790535838 0.9583333333333334\n",
      "0.9867780097425192 0.9416666666666667\n",
      "0.9805149617258176 0.9444444444444444\n",
      "0.9867780097425192 0.9555555555555556\n",
      "0.9826026443980515 0.9555555555555556\n",
      "0.9832985386221295 0.95\n",
      "0.9846903270702854 0.9611111111111111\n",
      "0.988865692414753 0.9555555555555556\n",
      "0.988169798190675 0.9555555555555556\n",
      "0.9895615866388309 0.9472222222222222\n",
      "0.9895615866388309 0.9583333333333334\n",
      "0.988169798190675 0.9611111111111111\n",
      "0.9902574808629089 0.9583333333333334\n",
      "0.9909533750869868 0.9555555555555556\n",
      "0.9909533750869868 0.9611111111111111\n",
      "0.988865692414753 0.9555555555555556\n",
      "0.9916492693110647 0.9666666666666667\n",
      "0.9916492693110647 0.9666666666666667\n",
      "0.9944328462073765 0.9611111111111111\n",
      "0.9944328462073765 0.9638888888888889\n",
      "0.9937369519832986 0.9666666666666667\n",
      "0.9923451635351427 0.9666666666666667\n",
      "0.9923451635351427 0.9638888888888889\n",
      "0.9958246346555324 0.9638888888888889\n",
      "0.9965205288796103 0.9694444444444444\n",
      "0.9951287404314544 0.9638888888888889\n",
      "0.9972164231036882 0.9638888888888889\n",
      "0.9965205288796103 0.9666666666666667\n",
      "0.9965205288796103 0.9583333333333334\n",
      "0.9965205288796103 0.9638888888888889\n",
      "0.9979123173277662 0.9611111111111111\n",
      "0.9972164231036882 0.9638888888888889\n",
      "0.9958246346555324 0.9611111111111111\n",
      "0.9972164231036882 0.9638888888888889\n",
      "0.9972164231036882 0.9638888888888889\n",
      "0.9958246346555324 0.9638888888888889\n",
      "0.9937369519832986 0.9611111111111111\n",
      "0.9965205288796103 0.9638888888888889\n",
      "0.9979123173277662 0.9638888888888889\n",
      "0.9958246346555324 0.9638888888888889\n",
      "0.9986082115518441 0.9555555555555556\n",
      "0.9958246346555324 0.9611111111111111\n",
      "0.9986082115518441 0.9611111111111111\n",
      "0.9972164231036882 0.9611111111111111\n",
      "0.9979123173277662 0.9638888888888889\n",
      "0.9979123173277662 0.9638888888888889\n",
      "0.9986082115518441 0.9638888888888889\n",
      "0.9979123173277662 0.9638888888888889\n",
      "0.9979123173277662 0.9611111111111111\n",
      "0.9986082115518441 0.9638888888888889\n",
      "0.9979123173277662 0.9611111111111111\n",
      "0.9979123173277662 0.9638888888888889\n",
      "0.9986082115518441 0.9611111111111111\n",
      "0.9986082115518441 0.9611111111111111\n",
      "0.9993041057759221 0.9611111111111111\n",
      "0.9972164231036882 0.9611111111111111\n",
      "0.9993041057759221 0.9611111111111111\n",
      "0.9993041057759221 0.9583333333333334\n",
      "0.9993041057759221 0.9611111111111111\n"
     ]
    },
    {
     "ename": "NameError",
     "evalue": "name 'plt' is not defined",
     "output_type": "error",
     "traceback": [
      "\u001b[1;31m---------------------------------------------------------------------------\u001b[0m",
      "\u001b[1;31mNameError\u001b[0m                                 Traceback (most recent call last)",
      "Cell \u001b[1;32mIn[8], line 37\u001b[0m\n\u001b[0;32m     34\u001b[0m         test_acc_log\u001b[38;5;241m.\u001b[39mappend(test_acc)\n\u001b[0;32m     35\u001b[0m         \u001b[38;5;28mprint\u001b[39m(train_acc, test_acc)\n\u001b[1;32m---> 37\u001b[0m plt\u001b[38;5;241m.\u001b[39mplot(np\u001b[38;5;241m.\u001b[39marange(\u001b[38;5;28mlen\u001b[39m(train_acc_log)), np\u001b[38;5;241m.\u001b[39marray(train_acc_log))\n\u001b[0;32m     38\u001b[0m plt\u001b[38;5;241m.\u001b[39mshow()\n",
      "\u001b[1;31mNameError\u001b[0m: name 'plt' is not defined"
     ]
    }
   ],
   "source": [
    "import copy\n",
    "network = TwoLayerNetwork(X_train[0].size, 50, y_train[0].size)\n",
    "\n",
    "num_iter = 1000\n",
    "train_size = X_train.shape[0]\n",
    "batch_size = 100\n",
    "learning_rate = 0.03\n",
    "alpha = 0.5\n",
    "moment = copy.deepcopy(network.params)\n",
    "for key in list(moment.keys()):\n",
    "    moment[key] *= 0\n",
    "\n",
    "train_loss_log = []\n",
    "train_acc_log = []\n",
    "test_acc_log = []\n",
    "grad = None\n",
    "for i in range(num_iter):\n",
    "    batch_mask = np.random.choice(train_size, batch_size)\n",
    "    X_batch = X_train[batch_mask]\n",
    "    y_batch = y_train[batch_mask]\n",
    "    \n",
    "    grad = network.gradient(X_batch, y_batch)\n",
    "    for key in list(network.params.keys()): # gradient descent\n",
    "         moment[key] = alpha*moment[key] - learning_rate*grad[key]\n",
    "         network.params[key] += moment[key]\n",
    "    \n",
    "    loss = network.loss(X_batch, y_batch)\n",
    "    train_loss_log.append(loss)\n",
    "    \n",
    "    if i % 10 == 0:\n",
    "        train_acc = network.accuracy(X_train, y_train)\n",
    "        test_acc = network.accuracy(X_test, y_test)\n",
    "        train_acc_log.append(train_acc)\n",
    "        test_acc_log.append(test_acc)\n",
    "        print(train_acc, test_acc)\n",
    "        \n",
    "plt.plot(np.arange(len(train_acc_log)), np.array(train_acc_log))\n",
    "plt.show()"
   ]
  },
  {
   "cell_type": "markdown",
   "metadata": {},
   "source": [
    "### Using learning rate decay"
   ]
  },
  {
   "cell_type": "code",
   "execution_count": null,
   "metadata": {},
   "outputs": [],
   "source": [
    "network = TwoLayerNetwork(X_train[0].size, 50, y_train[0].size)\n",
    "num_iter = 1000\n",
    "train_size = X_train.shape[0]\n",
    "batch_size = 100\n",
    "initial_learning_rate = 0.05\n",
    "learning_rate = initial_learning_rate\n",
    "learning_rate_decay = 0.99  # learning rate decay factor\n",
    "train_loss_log = []\n",
    "train_acc_log = []\n",
    "test_acc_log = []\n",
    "\n",
    "iter_per_epoch = max(train_size / batch_size, 1)\n",
    "\n",
    "for i in range(num_iter):\n",
    "    batch_mask = np.random.choice(train_size, batch_size)\n",
    "    X_batch = X_train[batch_mask]\n",
    "    y_batch = y_train[batch_mask]\n",
    "    \n",
    "    grad = network.gradient(X_batch, y_batch)\n",
    "    for key in list(network.params.keys()): # gradient descent\n",
    "        network.params[key] -= learning_rate * grad[key]\n",
    "    \n",
    "    loss = network.loss(X_batch, y_batch)\n",
    "    train_loss_log.append(loss)\n",
    "    \n",
    "    if i % iter_per_epoch == 0:\n",
    "        learning_rate *= learning_rate_decay  # decay the learning rate\n",
    "    \n",
    "    if i % 10 == 0:\n",
    "        train_acc = network.accuracy(X_train, y_train)\n",
    "        test_acc = network.accuracy(X_test, y_test)\n",
    "        train_acc_log.append(train_acc)\n",
    "        test_acc_log.append(test_acc)\n",
    "        print(train_acc, test_acc)\n",
    "        \n",
    "plt.plot(np.arange(len(train_acc_log)), np.array(train_acc_log))\n",
    "plt.show()\n"
   ]
  },
  {
   "cell_type": "code",
   "execution_count": null,
   "metadata": {},
   "outputs": [],
   "source": []
  }
 ],
 "metadata": {
  "kernelspec": {
   "display_name": "base",
   "language": "python",
   "name": "python3"
  },
  "language_info": {
   "codemirror_mode": {
    "name": "ipython",
    "version": 3
   },
   "file_extension": ".py",
   "mimetype": "text/x-python",
   "name": "python",
   "nbconvert_exporter": "python",
   "pygments_lexer": "ipython3",
   "version": "3.11.5"
  }
 },
 "nbformat": 4,
 "nbformat_minor": 2
}
